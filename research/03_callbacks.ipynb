{
 "cells": [
  {
   "cell_type": "code",
   "execution_count": 1,
   "metadata": {},
   "outputs": [],
   "source": [
    "import os\n",
    "import sys\n",
    "import tensorflow as tf"
   ]
  },
  {
   "cell_type": "code",
   "execution_count": 2,
   "metadata": {},
   "outputs": [],
   "source": [
    "os.chdir(\"../\")"
   ]
  },
  {
   "cell_type": "code",
   "execution_count": 3,
   "metadata": {},
   "outputs": [],
   "source": [
    "##entity\n",
    "\n",
    "from dataclasses import dataclass\n",
    "from pathlib import Path\n",
    "\n",
    "@dataclass(frozen=True)\n",
    "class PrepareCallbacksConfig:\n",
    "    root_dir: Path\n",
    "    tensorboard_root_log_dir: Path\n",
    "    checkpoint_model_file_path: Path"
   ]
  },
  {
   "cell_type": "code",
   "execution_count": 4,
   "metadata": {},
   "outputs": [
    {
     "name": "stdout",
     "output_type": "stream",
     "text": [
      "[2023-07-28 12:42:27,656] 25 root INFO - Current working directory: c:\\Users\\pragn\\Documents\\MLOPS\\final_CDC\n"
     ]
    }
   ],
   "source": [
    "from src.utils.common import create_directories\n",
    "from src.utils.common import read_yaml\n",
    "from src.constants import constant_paths\n",
    "\n",
    "CONFIG_FILE_PATH = constant_paths().get_paths()[0]\n",
    "PARAMS_FILE_PATH = constant_paths().get_paths()[1]"
   ]
  },
  {
   "cell_type": "code",
   "execution_count": 5,
   "metadata": {},
   "outputs": [],
   "source": [
    "class ConfigurationManager:\n",
    "    def __init__(\n",
    "            self,\n",
    "            config_file_path = CONFIG_FILE_PATH,\n",
    "            params_file_path = PARAMS_FILE_PATH):\n",
    "        \n",
    "        self.config = read_yaml(config_file_path)\n",
    "        #self.params = read_yaml(params_file_path)\n",
    "\n",
    "        #create_directories([self.config.artifacts_dir])\n",
    "\n",
    "    def prepare_callbacks(self) -> PrepareCallbacksConfig:\n",
    "        config = self.config.prepare_callbacks\n",
    "        create_directories([config.root_dir])\n",
    "\n",
    "        model_checkpoint_dir = os.path.dirname(config.checkpoint_model_file_path)\n",
    "\n",
    "        create_directories([Path(model_checkpoint_dir),Path(config.tensorboard_root_log_dir)])\n",
    "\n",
    "        prepare_callbacks_config = PrepareCallbacksConfig(\n",
    "            root_dir = Path(config.root_dir),\n",
    "            tensorboard_root_log_dir=Path(config.tensorboard_root_log_dir),\n",
    "            checkpoint_model_file_path= Path(config.checkpoint_model_file_path)\n",
    "        )\n",
    "        #returning a class with loaded data path files\n",
    "        return prepare_callbacks_config"
   ]
  },
  {
   "cell_type": "markdown",
   "metadata": {},
   "source": [
    "Configuration is complete. Now creating required classes."
   ]
  },
  {
   "cell_type": "code",
   "execution_count": 6,
   "metadata": {},
   "outputs": [],
   "source": [
    "from src.logger import logging\n",
    "from zipfile import ZipFile\n",
    "import urllib.request as request\n",
    "import time"
   ]
  },
  {
   "cell_type": "code",
   "execution_count": 12,
   "metadata": {},
   "outputs": [],
   "source": [
    "class PrepareCallbacks:\n",
    "    def __init__(self,config : PrepareCallbacksConfig):\n",
    "        self.config = config\n",
    "    \n",
    "    @property\n",
    "    def _create_tb_callbacks(self):\n",
    "        timestamp = time.strftime(\"%Y-%m-%d-%H-%M-%S\")\n",
    "        tb_running_log_dir = os.path.join(\n",
    "            self.config.tensorboard_root_log_dir,\n",
    "            f\"tb_logs_at_{timestamp}\",\n",
    "        )\n",
    "        return tf.keras.callbacks.TensorBoard(log_dir=tb_running_log_dir)  \n",
    "\n",
    "    @property\n",
    "    def _create_ckpt_callbacks(self):\n",
    "        return tf.keras.callbacks.ModelCheckpoint(\n",
    "            filepath=str(self.config.checkpoint_model_file_path),\n",
    "            save_best_only=True\n",
    "        )\n",
    "    \n",
    "    def get_tb_ckpt_callbacks(self):\n",
    "        return [\n",
    "            self._create_tb_callbacks,\n",
    "            self._create_ckpt_callbacks\n",
    "        ]"
   ]
  },
  {
   "cell_type": "code",
   "execution_count": 13,
   "metadata": {},
   "outputs": [
    {
     "name": "stdout",
     "output_type": "stream",
     "text": [
      "[2023-07-28 12:47:46,498] 45 root INFO - yaml file: config\\config.yaml loaded successfully\n",
      "[2023-07-28 12:47:46,500] 64 root INFO - created directory at: artifacts/prepare_callbacks\n",
      "[2023-07-28 12:47:46,501] 64 root INFO - created directory at: artifacts\\prepare_callbacks\\checkpoint_model\n",
      "[2023-07-28 12:47:46,501] 64 root INFO - created directory at: artifacts\\prepare_callbacks\\tensorboard_root_log\n"
     ]
    }
   ],
   "source": [
    "## Pipeline\n",
    "\n",
    "from src.exception import CustomException\n",
    "\n",
    "try:\n",
    "    configmanager = ConfigurationManager()\n",
    "    prepare_callbacks_config = configmanager.prepare_callbacks()\n",
    "    prepare_callbacks = PrepareCallbacks(prepare_callbacks_config)\n",
    "    callbacks_list = prepare_callbacks.get_tb_ckpt_callbacks()\n",
    "    \n",
    "\n",
    "except Exception as e:\n",
    "    raise CustomException(e,sys)"
   ]
  }
 ],
 "metadata": {
  "kernelspec": {
   "display_name": "final_CDC_env",
   "language": "python",
   "name": "python3"
  },
  "language_info": {
   "codemirror_mode": {
    "name": "ipython",
    "version": 3
   },
   "file_extension": ".py",
   "mimetype": "text/x-python",
   "name": "python",
   "nbconvert_exporter": "python",
   "pygments_lexer": "ipython3",
   "version": "3.11.4"
  },
  "orig_nbformat": 4
 },
 "nbformat": 4,
 "nbformat_minor": 2
}
