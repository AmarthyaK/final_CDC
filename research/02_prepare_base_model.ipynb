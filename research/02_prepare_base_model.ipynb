{
 "cells": [
  {
   "cell_type": "code",
   "execution_count": 1,
   "metadata": {},
   "outputs": [],
   "source": [
    "import os\n",
    "os.chdir(\"../\")"
   ]
  },
  {
   "cell_type": "code",
   "execution_count": 2,
   "metadata": {},
   "outputs": [],
   "source": [
    "from dataclasses import dataclass\n",
    "from pathlib import Path\n",
    "from src.exception import CustomException"
   ]
  },
  {
   "cell_type": "code",
   "execution_count": 3,
   "metadata": {},
   "outputs": [],
   "source": [
    "@dataclass(frozen=True)\n",
    "class BaseModelConfig:\n",
    "    root_dir: str\n",
    "    base_model_path: Path\n",
    "    updated_base_model_path: Path\n",
    "    params_img_size: list #as per VGG16 model, it s required to have the image size as 224,224,3\n",
    "    params_batch_size: int\n",
    "    params_include_top: bool\n",
    "    params_epochs: int\n",
    "    params_classes: int\n",
    "    params_weights: str\n",
    "    params_learning_rate: float"
   ]
  },
  {
   "cell_type": "code",
   "execution_count": 4,
   "metadata": {},
   "outputs": [],
   "source": [
    "from src.utils.common import create_directories\n",
    "from src.utils.common import read_yaml\n",
    "from src.constants import constant_paths\n",
    "\n",
    "CONFIG_FILE_PATH = constant_paths().get_paths()[0]\n",
    "PARAMS_FILE_PATH = constant_paths().get_paths()[1]"
   ]
  },
  {
   "cell_type": "code",
   "execution_count": 5,
   "metadata": {},
   "outputs": [],
   "source": [
    "class ConfigurationManager:\n",
    "    def __init__(\n",
    "            self,\n",
    "            config_file_path = CONFIG_FILE_PATH,\n",
    "            params_file_path = PARAMS_FILE_PATH):\n",
    "        \n",
    "        self.config = read_yaml(config_file_path)\n",
    "        self.params = read_yaml(params_file_path)\n",
    "\n",
    "        #create_directories([self.config.artifacts_dir])\n",
    "\n",
    "    def prepare_base_model(self) -> BaseModelConfig:\n",
    "        config = self.config.base_model\n",
    "\n",
    "        create_directories([config.root_dir])\n",
    "\n",
    "        base_model_config = BaseModelConfig(\n",
    "            root_dir = config.root_dir,\n",
    "            base_model_path=config.base_model_path,\n",
    "            updated_base_model_path= config.updated_base_model_path,\n",
    "            params_img_size=self.params.IMAGE_SIZE,\n",
    "            params_batch_size=self.params.BATCH_SIZE,\n",
    "            params_include_top=self.params.INCLUDE_TOP,\n",
    "            params_learning_rate=self.params.LEARNING_RATE,\n",
    "            params_epochs=self.params.EPOCHS,\n",
    "            params_weights=self.params.WEIGHTS,\n",
    "            params_classes=self.params.CLASSES\n",
    "        )\n",
    "        #returning a class with loaded data path files\n",
    "        return base_model_config"
   ]
  },
  {
   "cell_type": "markdown",
   "metadata": {},
   "source": [
    "Now that the conifguration is done, we need to create a prepare_base_model class\n"
   ]
  },
  {
   "cell_type": "code",
   "execution_count": 6,
   "metadata": {},
   "outputs": [],
   "source": [
    "import os\n",
    "import sys\n",
    "import tensorflow as tf\n",
    "from src.logger import logging\n",
    "from zipfile import ZipFile\n",
    "import urllib.request as request\n"
   ]
  },
  {
   "cell_type": "code",
   "execution_count": 7,
   "metadata": {},
   "outputs": [],
   "source": [
    "class PrepareBaseModel:\n",
    "    def __init__(self, config: BaseModelConfig):\n",
    "        self.config = config\n",
    "\n",
    "    @staticmethod\n",
    "    def save_model(path: Path,model:tf.keras.Model):\n",
    "        model.save(path)\n",
    "   \n",
    "    def download_base_model(self):\n",
    "        try:\n",
    "            self.model = tf.keras.applications.vgg16.VGG16(\n",
    "                input_shape=self.config.params_img_size,\n",
    "                weights = self.config.params_weights,\n",
    "                include_top=self.config.params_include_top\n",
    "            )\n",
    "            self.save_model(path = self.config.base_model_path,model = self.model)\n",
    "            logging.info(f\"Base model downloaded to {self.config.base_model_path}\")\n",
    "\n",
    "        except Exception as e:\n",
    "            raise CustomException(e,sys)\n",
    "    \n",
    "    @staticmethod\n",
    "    def prepare_full_model(model,classes,freeze_all,freeze_till,learning_rate):\n",
    "        if freeze_all:\n",
    "            for layer in model.layers:\n",
    "                model.trainable = False\n",
    "\n",
    "        elif (freeze_till is not None) and (freeze_till >= 0):\n",
    "            for layer in model.layers[:-freeze_till]:\n",
    "                model.trainable = False\n",
    "        \n",
    "        flatten_in = tf.keras.layers.Flatten()(model.output)\n",
    "        prediction = tf.keras.layers.Dense(units=classes,activation='softmax')(flatten_in)\n",
    "\n",
    "        logging.info(\"the output layer is added to the model\")\n",
    "\n",
    "        full_model = tf.keras.models.Model(inputs=model.input,outputs=prediction)\n",
    "\n",
    "        full_model.compile(\n",
    "                    optimizer=tf.keras.optimizers.SGD(learning_rate=learning_rate),\n",
    "                    loss=tf.keras.losses.CategoricalCrossentropy(),\n",
    "                    metrics=['accuracy']\n",
    "                )\n",
    "        logging.info(\"the model is compiled\")\n",
    "\n",
    "        full_model.summary()\n",
    "        return full_model\n",
    "    \n",
    "    def update_base_model(self):\n",
    "        self.full_model = self.prepare_full_model(model=self.model,classes = self.config.params_classes,freeze_all = True,freeze_till = None,learning_rate = self.config.params_learning_rate)\n",
    "        self.save_model(path = self.config.updated_base_model_path,model = self.full_model)\n",
    "\n",
    "        logging.info(f\"Updated Base model updated to {self.config.updated_base_model_path}\")\n",
    "\n"
   ]
  },
  {
   "cell_type": "code",
   "execution_count": 8,
   "metadata": {},
   "outputs": [
    {
     "name": "stdout",
     "output_type": "stream",
     "text": [
      "[2023-07-27 18:13:57,424] 40 root INFO - yaml file: config\\config.yaml loaded successfully\n",
      "[2023-07-27 18:13:57,431] 40 root INFO - yaml file: params.yaml loaded successfully\n",
      "[2023-07-27 18:13:57,433] 59 root INFO - created directory at: artifacts/base_model\n"
     ]
    },
    {
     "name": "stdout",
     "output_type": "stream",
     "text": [
      "Downloading data from https://storage.googleapis.com/tensorflow/keras-applications/vgg16/vgg16_weights_tf_dim_ordering_tf_kernels_notop.h5\n",
      "58889256/58889256 [==============================] - 2s 0us/step\n",
      "[2023-07-27 18:13:59,719] 359 tensorflow WARNING - Compiled the loaded model, but the compiled metrics have yet to be built. `model.compile_metrics` will be empty until you train or evaluate the model.\n",
      "[2023-07-27 18:13:59,827] 17 root INFO - Base model downloaded to artifacts/base_model/base_model.h5\n",
      "[2023-07-27 18:13:59,847] 35 root INFO - the output layer is added to the model\n",
      "[2023-07-27 18:13:59,859] 44 root INFO - the model is compiled\n",
      "Model: \"model\"\n",
      "_________________________________________________________________\n",
      " Layer (type)                Output Shape              Param #   \n",
      "=================================================================\n",
      " input_1 (InputLayer)        [(None, 224, 224, 3)]     0         \n",
      "                                                                 \n",
      " block1_conv1 (Conv2D)       (None, 224, 224, 64)      1792      \n",
      "                                                                 \n",
      " block1_conv2 (Conv2D)       (None, 224, 224, 64)      36928     \n",
      "                                                                 \n",
      " block1_pool (MaxPooling2D)  (None, 112, 112, 64)      0         \n",
      "                                                                 \n",
      " block2_conv1 (Conv2D)       (None, 112, 112, 128)     73856     \n",
      "                                                                 \n",
      " block2_conv2 (Conv2D)       (None, 112, 112, 128)     147584    \n",
      "                                                                 \n",
      " block2_pool (MaxPooling2D)  (None, 56, 56, 128)       0         \n",
      "                                                                 \n",
      " block3_conv1 (Conv2D)       (None, 56, 56, 256)       295168    \n",
      "                                                                 \n",
      " block3_conv2 (Conv2D)       (None, 56, 56, 256)       590080    \n",
      "                                                                 \n",
      " block3_conv3 (Conv2D)       (None, 56, 56, 256)       590080    \n",
      "                                                                 \n",
      " block3_pool (MaxPooling2D)  (None, 28, 28, 256)       0         \n",
      "                                                                 \n",
      " block4_conv1 (Conv2D)       (None, 28, 28, 512)       1180160   \n",
      "                                                                 \n",
      " block4_conv2 (Conv2D)       (None, 28, 28, 512)       2359808   \n",
      "                                                                 \n",
      " block4_conv3 (Conv2D)       (None, 28, 28, 512)       2359808   \n",
      "                                                                 \n",
      " block4_pool (MaxPooling2D)  (None, 14, 14, 512)       0         \n",
      "                                                                 \n",
      " block5_conv1 (Conv2D)       (None, 14, 14, 512)       2359808   \n",
      "                                                                 \n",
      " block5_conv2 (Conv2D)       (None, 14, 14, 512)       2359808   \n",
      "                                                                 \n",
      " block5_conv3 (Conv2D)       (None, 14, 14, 512)       2359808   \n",
      "                                                                 \n",
      " block5_pool (MaxPooling2D)  (None, 7, 7, 512)         0         \n",
      "                                                                 \n",
      " flatten (Flatten)           (None, 25088)             0         \n",
      "                                                                 \n",
      " dense (Dense)               (None, 4)                 100356    \n",
      "                                                                 \n",
      "=================================================================\n",
      "Total params: 14815044 (56.51 MB)\n",
      "Trainable params: 100356 (392.02 KB)\n",
      "Non-trainable params: 14714688 (56.13 MB)\n",
      "_________________________________________________________________\n"
     ]
    },
    {
     "name": "stderr",
     "output_type": "stream",
     "text": [
      "c:\\Users\\pragn\\anaconda3\\envs\\final_CDC_env\\Lib\\site-packages\\keras\\src\\engine\\training.py:3000: UserWarning: You are saving your model as an HDF5 file via `model.save()`. This file format is considered legacy. We recommend using instead the native Keras format, e.g. `model.save('my_model.keras')`.\n",
      "  saving_api.save_model(\n"
     ]
    },
    {
     "name": "stdout",
     "output_type": "stream",
     "text": [
      "[2023-07-27 18:14:00,008] 53 root INFO - Updated Base model updated to artifacts/base_model/base_model_updated.h5\n"
     ]
    }
   ],
   "source": [
    "## Pipeline\n",
    "\n",
    "try:\n",
    "    configmanager = ConfigurationManager()\n",
    "    prepare_base_model_config = configmanager.prepare_base_model()\n",
    "    prepare_base_model = PrepareBaseModel(prepare_base_model_config)\n",
    "    prepare_base_model.download_base_model()\n",
    "    prepare_base_model.update_base_model()\n",
    "\n",
    "except Exception as e:\n",
    "    raise CustomException(e,sys)"
   ]
  }
 ],
 "metadata": {
  "kernelspec": {
   "display_name": "final_CDC_env",
   "language": "python",
   "name": "python3"
  },
  "language_info": {
   "codemirror_mode": {
    "name": "ipython",
    "version": 3
   },
   "file_extension": ".py",
   "mimetype": "text/x-python",
   "name": "python",
   "nbconvert_exporter": "python",
   "pygments_lexer": "ipython3",
   "version": "3.11.4"
  },
  "orig_nbformat": 4
 },
 "nbformat": 4,
 "nbformat_minor": 2
}
