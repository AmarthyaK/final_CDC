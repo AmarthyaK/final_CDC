{
 "cells": [
  {
   "cell_type": "code",
   "execution_count": 1,
   "metadata": {},
   "outputs": [],
   "source": [
    "import os\n",
    "import sys\n",
    "\n",
    "os.chdir(\"../\")\n",
    "\n",
    "from src.exception import CustomException\n",
    "from src.logger import logging\n"
   ]
  },
  {
   "cell_type": "code",
   "execution_count": 2,
   "metadata": {},
   "outputs": [],
   "source": [
    "##entity\n",
    "\n",
    "from dataclasses import dataclass\n",
    "from pathlib import Path\n",
    "\n",
    "@dataclass(frozen=True)\n",
    "class ModelTrainConfig:\n",
    "    root_dir: Path\n",
    "    trained_model_path: Path\n",
    "    updated_base_model_path: Path\n",
    "    training_data: Path\n",
    "    params_epochs: int\n",
    "    params_batch_size: int\n",
    "    params_image_size: int\n",
    "    params_is_augmentation: bool\n",
    "\n",
    "\n",
    "@dataclass(frozen=True)\n",
    "class PrepareCallbacksConfig:\n",
    "    root_dir: Path\n",
    "    tensorboard_root_log_dir: Path\n",
    "    checkpoint_model_file_path: Path"
   ]
  },
  {
   "cell_type": "code",
   "execution_count": 3,
   "metadata": {},
   "outputs": [
    {
     "name": "stdout",
     "output_type": "stream",
     "text": [
      "[2023-07-28 16:55:07,288] 25 root INFO - Current working directory: c:\\Users\\pragn\\Documents\\MLOPS\\final_CDC\n"
     ]
    }
   ],
   "source": [
    "from src.utils.common import create_directories\n",
    "from src.utils.common import read_yaml\n",
    "from src.constants import constant_paths\n",
    "\n",
    "CONFIG_FILE_PATH = constant_paths().get_paths()[0]\n",
    "PARAMS_FILE_PATH = constant_paths().get_paths()[1]"
   ]
  },
  {
   "cell_type": "code",
   "execution_count": 4,
   "metadata": {},
   "outputs": [],
   "source": [
    "class ConfigurationManager:\n",
    "    def __init__(\n",
    "            self,\n",
    "            config_file_path = CONFIG_FILE_PATH,\n",
    "            params_file_path = PARAMS_FILE_PATH):\n",
    "        \n",
    "        self.config = read_yaml(config_file_path)\n",
    "        self.params = read_yaml(params_file_path)\n",
    "\n",
    "        #create_directories([self.config.artifacts_dir])\n",
    "\n",
    "    def prepare_callbacks(self) -> PrepareCallbacksConfig:\n",
    "        config = self.config.prepare_callbacks\n",
    "        create_directories([config.root_dir])\n",
    "\n",
    "        model_checkpoint_dir = os.path.dirname(config.checkpoint_model_file_path)\n",
    "\n",
    "        create_directories([Path(model_checkpoint_dir),Path(config.tensorboard_root_log_dir)])\n",
    "\n",
    "        prepare_callbacks_config = PrepareCallbacksConfig(\n",
    "            root_dir = Path(config.root_dir),\n",
    "            tensorboard_root_log_dir=Path(config.tensorboard_root_log_dir),\n",
    "            checkpoint_model_file_path= Path(config.checkpoint_model_file_path)\n",
    "        )\n",
    "        #returning a class with loaded data path files\n",
    "        return prepare_callbacks_config\n",
    "      \n",
    "    def model_train_config(self) -> ModelTrainConfig:\n",
    "        training = self.config.model_train\n",
    "        prepare_base_model = self.config.base_model\n",
    "        params = self.params\n",
    "        training_data_path = os.path.join(self.config.data_ingestion.unzip_dir,\"Dataset_CDC_category\")\n",
    "        create_directories([Path(training.root_dir)])\n",
    "\n",
    "        model_train_config = ModelTrainConfig(\n",
    "            root_dir = Path(training.root_dir),\n",
    "            trained_model_path = Path(training.trained_model_path),\n",
    "            updated_base_model_path=self.config.base_model.updated_base_model_path,\n",
    "            training_data=Path(training_data_path),\n",
    "            params_epochs = params.EPOCHS,\n",
    "            params_batch_size = params.BATCH_SIZE,\n",
    "            params_image_size = params.IMAGE_SIZE,\n",
    "            params_is_augmentation= params.AUGMENTATION\n",
    "        )\n",
    "\n",
    "        return model_train_config"
   ]
  },
  {
   "cell_type": "markdown",
   "metadata": {},
   "source": [
    "Configuration is done, now it is time to create Model training components."
   ]
  },
  {
   "cell_type": "code",
   "execution_count": 5,
   "metadata": {},
   "outputs": [],
   "source": [
    "from src.exception import CustomException\n",
    "from src.logger import logging\n",
    "from zipfile import ZipFile\n",
    "import urllib.request as request\n",
    "import time\n",
    "import tensorflow as tf"
   ]
  },
  {
   "cell_type": "code",
   "execution_count": 6,
   "metadata": {},
   "outputs": [],
   "source": [
    "class PrepareCallbacks:\n",
    "    def __init__(self,config : PrepareCallbacksConfig):\n",
    "        self.config = config\n",
    "    \n",
    "    @property\n",
    "    def _create_tb_callbacks(self):\n",
    "        timestamp = time.strftime(\"%Y-%m-%d-%H-%M-%S\")\n",
    "        tb_running_log_dir = os.path.join(\n",
    "            self.config.tensorboard_root_log_dir,\n",
    "            f\"tb_logs_at_{timestamp}\",\n",
    "        )\n",
    "        return tf.keras.callbacks.TensorBoard(log_dir=tb_running_log_dir)  \n",
    "\n",
    "    @property\n",
    "    def _create_ckpt_callbacks(self):\n",
    "        return tf.keras.callbacks.ModelCheckpoint(\n",
    "            filepath=str(self.config.checkpoint_model_file_path),\n",
    "            save_best_only=True\n",
    "        )\n",
    "    \n",
    "    def get_tb_ckpt_callbacks(self):\n",
    "        return [\n",
    "            self._create_tb_callbacks,\n",
    "            self._create_ckpt_callbacks\n",
    "        ]"
   ]
  },
  {
   "cell_type": "code",
   "execution_count": 7,
   "metadata": {},
   "outputs": [],
   "source": [
    "class Training:\n",
    "    def __init__(self,config:ModelTrainConfig):\n",
    "        self.config = config\n",
    "\n",
    "    def get_base_model(self):\n",
    "        self.model = tf.keras.models.load_model(self.config.updated_base_model_path)\n",
    "    \n",
    "    def train_valid_generator(self):\n",
    "\n",
    "        datageneratorkwargs = dict(\n",
    "            rescale = 1./255,\n",
    "            validation_split = 0.2\n",
    "        )\n",
    "\n",
    "        dataflow_kwargs = dict(\n",
    "            target_size = self.config.params_image_size[:-1],\n",
    "            batch_size = self.config.params_batch_size,\n",
    "            interpolation = \"bilinear\"\n",
    "        )\n",
    "\n",
    "        valid_datagenerator = tf.keras.preprocessing.image.ImageDataGenerator(**datageneratorkwargs)\n",
    "\n",
    "        self.valid_generator = valid_datagenerator.flow_from_directory(\n",
    "            directory = self.config.training_data,\n",
    "            subset = \"validation\",\n",
    "            shuffle = False,\n",
    "            **dataflow_kwargs)\n",
    "        \n",
    "        if self.config.params_is_augmentation:\n",
    "            train_datagenerator = tf.keras.preprocessing.image.ImageDataGenerator(\n",
    "                rotation_range = 40,\n",
    "                horizontal_flip=True,\n",
    "                width_shift_range= 0.2,\n",
    "                height_shift_range= 0.2,\n",
    "                shear_range= 0.2,\n",
    "                zoom_range= 0.2,\n",
    "                **datageneratorkwargs)\n",
    "        else:\n",
    "            train_datagenerator = valid_datagenerator\n",
    "        \n",
    "        self.train_generator = train_datagenerator.flow_from_directory(\n",
    "                    directory = self.config.training_data,\n",
    "                    subset = \"training\",\n",
    "                    shuffle = True,\n",
    "                    **dataflow_kwargs)\n",
    "        \n",
    "    @staticmethod\n",
    "    def save_model(path: Path, model: tf.keras.Model):\n",
    "        model.save(path)\n",
    "    \n",
    "    def train(self, callback_list: list):\n",
    "        self.steps_per_epoch = self.train_generator.samples // self.train_generator.batch_size\n",
    "        self.validation_steps = self.valid_generator.samples // self.valid_generator.batch_size\n",
    "\n",
    "        self.model.fit(\n",
    "            self.train_generator,\n",
    "            steps_per_epoch = self.steps_per_epoch,\n",
    "            epochs = self.config.params_epochs,\n",
    "            validation_data = self.valid_generator,\n",
    "            validation_steps = self.validation_steps,\n",
    "            callbacks = callback_list\n",
    "        )\n",
    "\n",
    "        self.save_model(path = self.config.trained_model_path, model = self.model)"
   ]
  },
  {
   "cell_type": "code",
   "execution_count": 8,
   "metadata": {},
   "outputs": [
    {
     "name": "stdout",
     "output_type": "stream",
     "text": [
      "[2023-07-28 16:55:07,371] 45 root INFO - yaml file: config\\config.yaml loaded successfully\n",
      "[2023-07-28 16:55:07,373] 45 root INFO - yaml file: params.yaml loaded successfully\n",
      "[2023-07-28 16:55:07,374] 64 root INFO - created directory at: artifacts/prepare_callbacks\n",
      "[2023-07-28 16:55:07,375] 64 root INFO - created directory at: artifacts\\prepare_callbacks\\checkpoint_model\n",
      "[2023-07-28 16:55:07,376] 64 root INFO - created directory at: artifacts\\prepare_callbacks\\tensorboard_root_log\n",
      "[2023-07-28 16:55:07,378] 64 root INFO - created directory at: artifacts\\training\n",
      "Found 1612 images belonging to 4 classes.\n",
      "Found 6455 images belonging to 4 classes.\n",
      "403/403 [==============================] - 502s 1s/step - loss: 8.7964 - accuracy: 0.5269 - val_loss: 3.4862 - val_accuracy: 0.7131\n"
     ]
    },
    {
     "name": "stderr",
     "output_type": "stream",
     "text": [
      "c:\\Users\\pragn\\anaconda3\\envs\\final_CDC_env\\Lib\\site-packages\\keras\\src\\engine\\training.py:3000: UserWarning: You are saving your model as an HDF5 file via `model.save()`. This file format is considered legacy. We recommend using instead the native Keras format, e.g. `model.save('my_model.keras')`.\n",
      "  saving_api.save_model(\n"
     ]
    }
   ],
   "source": [
    "## Pipeline\n",
    "\n",
    "from src.exception import CustomException\n",
    "\n",
    "try:\n",
    "    configmanager = ConfigurationManager()\n",
    "    prepare_callbacks_config = configmanager.prepare_callbacks()\n",
    "    prepare_callbacks = PrepareCallbacks(prepare_callbacks_config)\n",
    "    callbacks_list = prepare_callbacks.get_tb_ckpt_callbacks()\n",
    "\n",
    "    #training model\n",
    "    model_train_config = configmanager.model_train_config()\n",
    "    model_train = Training(model_train_config)\n",
    "    model_train.get_base_model()\n",
    "    model_train.train_valid_generator()\n",
    "    model_train.train(callbacks_list)\n",
    "    \n",
    "\n",
    "except Exception as e:\n",
    "    raise CustomException(e,sys)"
   ]
  },
  {
   "cell_type": "code",
   "execution_count": 1,
   "metadata": {},
   "outputs": [
    {
     "name": "stdout",
     "output_type": "stream",
     "text": [
      "No GPU found. Running on CPU.\n"
     ]
    }
   ],
   "source": [
    "import tensorflow as tf\n",
    "\n",
    "gpus = tf.config.experimental.list_physical_devices('GPU')\n",
    "\n",
    "if gpus:\n",
    "    # If you want to use the first GPU\n",
    "    try:\n",
    "        tf.config.experimental.set_visible_devices(gpus[0], 'GPU')\n",
    "        print(\"Running on the GPU\")\n",
    "    except RuntimeError as e:\n",
    "        # Visible devices must be set before GPUs have been initialized\n",
    "        print(e)\n",
    "else:\n",
    "    print(\"No GPU found. Running on CPU.\")\n"
   ]
  }
 ],
 "metadata": {
  "kernelspec": {
   "display_name": "final_CDC_env",
   "language": "python",
   "name": "python3"
  },
  "language_info": {
   "codemirror_mode": {
    "name": "ipython",
    "version": 3
   },
   "file_extension": ".py",
   "mimetype": "text/x-python",
   "name": "python",
   "nbconvert_exporter": "python",
   "pygments_lexer": "ipython3",
   "version": "3.11.4"
  },
  "orig_nbformat": 4
 },
 "nbformat": 4,
 "nbformat_minor": 2
}
