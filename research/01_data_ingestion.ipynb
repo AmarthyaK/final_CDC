{
 "cells": [
  {
   "cell_type": "code",
   "execution_count": 1,
   "metadata": {},
   "outputs": [],
   "source": [
    "import os\n",
    "os.chdir(\"../\")"
   ]
  },
  {
   "cell_type": "markdown",
   "metadata": {},
   "source": [
    "What is happening here?\n",
    "\n",
    "1) We created a class called DataIngestionConfig. This is like a blueprint whose entries are root_path, source_URL, Where you want to unzip it etc etc.\n",
    "2) We created another class called DataIngestionConfigManager. This class does the job of creating directories based on config.yaml file. And also reading yaml files.\n",
    "3) Now that the directories are created, we are going to create a class called DataIngestionManager. This class will download and unzip the data files.\n"
   ]
  },
  {
   "cell_type": "code",
   "execution_count": 2,
   "metadata": {},
   "outputs": [],
   "source": [
    "from src.utils.common import create_directories\n",
    "from src.utils.common import read_yaml\n",
    "from src.constants import constant_paths"
   ]
  },
  {
   "cell_type": "code",
   "execution_count": 3,
   "metadata": {},
   "outputs": [],
   "source": [
    "CONFIG_FILE_PATH = constant_paths().get_paths()[0]\n",
    "PARAMS_FILE_PATH = constant_paths().get_paths()[1]"
   ]
  },
  {
   "cell_type": "markdown",
   "metadata": {},
   "source": [
    "Now there is a need to read the config file which contains paths to the dataset (compressed)\n",
    "\n",
    "In constants folder, we have the list of Config paths and Params path. We need to use them to read the config file and the params file."
   ]
  },
  {
   "cell_type": "code",
   "execution_count": 4,
   "metadata": {},
   "outputs": [],
   "source": [
    "from dataclasses import dataclass\n",
    "from pathlib import Path\n",
    "\n",
    "#we created this class to store the paths of the data, this will be used later on to create directories\n",
    "\n",
    "@dataclass\n",
    "class DataIngestionConfig:\n",
    "    root_dir: Path\n",
    "    source_URL: str\n",
    "    local_data_file: Path\n",
    "    unzip_dir: Path"
   ]
  },
  {
   "cell_type": "code",
   "execution_count": 5,
   "metadata": {},
   "outputs": [],
   "source": [
    "#creating a class called Configuration manager\n",
    "#also reading yaml files (config and params)\n",
    "#read_yaml's output is a dictionary type datatype called ConfigBox\n",
    "\n",
    "class ConfigurationManager:\n",
    "    def __init__(\n",
    "            self,\n",
    "            config_file_path = CONFIG_FILE_PATH,\n",
    "            params_file_path = PARAMS_FILE_PATH):\n",
    "        \n",
    "        self.config = read_yaml(config_file_path)\n",
    "        self.params = read_yaml(params_file_path)\n",
    "\n",
    "        create_directories([self.config.artifacts_dir])\n",
    "\n",
    "    def get_data_ingestion(self) -> DataIngestionConfig:\n",
    "        config = self.config.data_ingestion\n",
    "\n",
    "        create_directories([config.root_dir])\n",
    "\n",
    "        Data_ingestion_Config = DataIngestionConfig(root_dir=config.root_dir,source_URL=config.source_URL,\n",
    "                                                    local_data_file=config.local_data_file,unzip_dir=config.unzip_dir)\n",
    "        #returning a class with loaded data path files\n",
    "        return Data_ingestion_Config\n"
   ]
  },
  {
   "cell_type": "markdown",
   "metadata": {},
   "source": [
    "Now the configuration is done, we need to create the Data Ingestion Class"
   ]
  },
  {
   "cell_type": "code",
   "execution_count": 6,
   "metadata": {},
   "outputs": [],
   "source": [
    "import os\n",
    "from src.utils.common import download_zip_files\n",
    "from src.utils.common import unzip_zip_files\n",
    "from src.utils.common import download_s3\n",
    "from src.logger import logging\n"
   ]
  },
  {
   "cell_type": "code",
   "execution_count": 7,
   "metadata": {},
   "outputs": [],
   "source": [
    "class DataIngestion:\n",
    "    def __init__(self, config: DataIngestionConfig):\n",
    "        self.config = config\n",
    "    \n",
    "    def download_data(self):\n",
    "        \"\"\"\n",
    "        Download data from S3\n",
    "        \"\"\"\n",
    "        download_s3(self.config.local_data_file)\n",
    "    def unzip_zip_files(self):\n",
    "        \"\"\"Unzipping files\"\"\"\n",
    "        unzip_zip_files(self.config.local_data_file,self.config.unzip_dir)\n",
    "        "
   ]
  },
  {
   "cell_type": "code",
   "execution_count": 8,
   "metadata": {},
   "outputs": [],
   "source": [
    "from src.exception import CustomException\n",
    "import sys"
   ]
  },
  {
   "cell_type": "code",
   "execution_count": 9,
   "metadata": {},
   "outputs": [
    {
     "name": "stdout",
     "output_type": "stream",
     "text": [
      "[2023-07-27 02:33:25,192] 37 root INFO - yaml file: config\\config.yaml loaded successfully\n",
      "[2023-07-27 02:33:25,192] 37 root INFO - yaml file: params.yaml loaded successfully\n",
      "[2023-07-27 02:33:25,202] 56 root INFO - created directory at: artifacts\n",
      "[2023-07-27 02:33:25,202] 56 root INFO - created directory at: artifacts/data_ingestion\n",
      "[2023-07-27 02:33:25,587] 89 root INFO - Inside download function\n",
      "[2023-07-27 02:33:35,626] 91 root INFO - downloaded s3 data successfully: artifacts/data_ingestion/data.zip\n",
      "[2023-07-27 02:33:35,632] 72 root INFO - Inside unzip function\n",
      "[2023-07-27 02:33:42,557] 75 root INFO - unzipped file: artifacts/data_ingestion/data.zip\n"
     ]
    }
   ],
   "source": [
    "try:\n",
    "    configmanager = ConfigurationManager()\n",
    "    data_ingestion_config = configmanager.get_data_ingestion()\n",
    "    data_ingestion = DataIngestion(data_ingestion_config)\n",
    "    data_ingestion.download_data()\n",
    "    data_ingestion.unzip_zip_files()\n",
    "except Exception as e:\n",
    "    raise CustomException(e,sys)\n"
   ]
  }
 ],
 "metadata": {
  "kernelspec": {
   "display_name": "Python 3",
   "language": "python",
   "name": "python3"
  },
  "language_info": {
   "codemirror_mode": {
    "name": "ipython",
    "version": 3
   },
   "file_extension": ".py",
   "mimetype": "text/x-python",
   "name": "python",
   "nbconvert_exporter": "python",
   "pygments_lexer": "ipython3",
   "version": "3.11.4"
  },
  "orig_nbformat": 4
 },
 "nbformat": 4,
 "nbformat_minor": 2
}
